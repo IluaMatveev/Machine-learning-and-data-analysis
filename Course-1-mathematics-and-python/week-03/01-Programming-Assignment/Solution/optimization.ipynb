{
 "cells": [
  {
   "cell_type": "markdown",
   "metadata": {
    "collapsed": true
   },
   "source": [
    "# Оптимизация в Python: глобальная оптимизация и оптимизация негладкой функции #"
   ]
  },
  {
   "cell_type": "markdown",
   "metadata": {},
   "source": [
    "Данное задание основано на материалах секции, посвященной оптимизационным задачам и методам их решения. Вам понадобится компьютер с установленным интерпретатором *Python* и подключенными библиотеками *NumPy*, *SciPy* и *Matplotlib*."
   ]
  },
  {
   "cell_type": "markdown",
   "metadata": {},
   "source": [
    "### *Вы научитесь:* ###\n",
    "\n",
    "1. применять библиотеку *SciPy* для минимизации функций\n",
    "2. делать выбор между градиентными и неградиентными методами оптимизации, исходя из особенностей задачи и ваших пожеланий к итоговому решению"
   ]
  },
  {
   "cell_type": "markdown",
   "metadata": {},
   "source": [
    "### *Введение* ###\n",
    "\n",
    "В этом задании вы научитесь решать задачи оптимизации с помощью библиотеки SciPy. Сначала вы решите задачу поиска минимума функции с помощью одного из градиентных методов оптимизации, затем увидите отличия в работе градиентного метода и одного из методов глобальной оптимизации, а в заключение – найдете глобальный минимум негладкой функции, т.е. функции, у которой не всегда определен градиент.\n",
    "\n",
    "Понимание задачи глобальной оптимизации и отличий градиентных методов, от методов, не использующих градиент, очень полезно в задачах анализа данных, в частности, для подбора параметров алгоритмов."
   ]
  },
  {
   "cell_type": "markdown",
   "metadata": {},
   "source": [
    "### *Материалы* ###\n",
    "\n",
    "1. Справка по функциям пакета *scipy.optimize*: http://docs.scipy.org/doc/scipy/reference/optimize.html\n",
    "2. Matplotlib User Guide: http://matplotlib.org/users/index.html"
   ]
  },
  {
   "cell_type": "markdown",
   "metadata": {},
   "source": [
    "### *Инструкция по выполнению* ###\n",
    "\n",
    "Данное задание состоит из трех частей. В каждой ответом будет набор чисел, который вам нужно будет набрать через пробел в текстовом файле и загрузить. Десятичные дроби записывайте через точку.\n"
   ]
  },
  {
   "cell_type": "markdown",
   "metadata": {},
   "source": [
    "**Задача 1. Минимизация гладкой функции**"
   ]
  },
  {
   "cell_type": "markdown",
   "metadata": {},
   "source": [
    "**[1].** Рассмотрим все ту же функцию из задания по линейной алгебре: *f(x) = sin(x / 5) * exp(x / 10) + 5 * exp(-x / 2)*, но теперь уже на промежутке *[1, 30]*"
   ]
  },
  {
   "cell_type": "markdown",
   "metadata": {},
   "source": [
    "**[2].** В первом задании будем искать минимум этой функции на заданном промежутке с помощью *scipy.optimize*. Разумеется, в дальнейшем вы будете использовать методы оптимизации для более сложных функций, а *f(x)* мы рассмотрим как удобный учебный пример."
   ]
  },
  {
   "cell_type": "markdown",
   "metadata": {},
   "source": [
    "**[3].** Напишите на Питоне функцию, вычисляющую значение *f(x)* по известному *x*. Будьте внимательны: не забывайте про то, что по умолчанию в питоне целые числа делятся нацело, и о том, что функции *sin* и *exp* нужно импортировать из модуля *math*."
   ]
  },
  {
   "cell_type": "code",
   "execution_count": 1,
   "metadata": {
    "collapsed": true
   },
   "outputs": [],
   "source": [
    "import numpy as np\n",
    "import matplotlib.pyplot as plt\n",
    "import scipy.optimize\n",
    "\n",
    "%matplotlib inline"
   ]
  },
  {
   "cell_type": "code",
   "execution_count": 2,
   "metadata": {},
   "outputs": [
    {
     "data": {
      "image/png": "[encoded data removed]",
      "text/plain": [
       "<matplotlib.figure.Figure at 0x7e22be0>"
      ]
     },
     "metadata": {},
     "output_type": "display_data"
    }
   ],
   "source": [
    "f = lambda x: np.sin(x / 5.0) * np.exp(x / 10.0) + 5 * np.exp(-x / 2.0)\n",
    "\n",
    "x = np.arange(1.0, 30.0, 0.25) # Массив значений аргумента\n",
    "plt.plot(x, f(x)) # Построение графика\n",
    "plt.xlabel('$x$') # Метка по оси x в формате TeX\n",
    "plt.ylabel('$f(x)$') # Метка по оси y в формате TeX\n",
    "plt.grid(True) # Сетка\n",
    "plt.legend(( '$f(x)$', ))\n",
    "plt.show() # Показать график"
   ]
  },
  {
   "cell_type": "markdown",
   "metadata": {},
   "source": [
    "**[4].** Изучите примеры использования *scipy.optimize.minimize* в документации *Scipy* (см. \"Материалы\")"
   ]
  },
  {
   "cell_type": "markdown",
   "metadata": {},
   "source": [
    "**[5].** Попробуйте найти минимум, используя стандартные параметры в функции *scipy.optimize.minimize* (т.е. задав только функцию и начальное приближение). Попробуйте менять начальное приближение и изучить, меняется ли результат."
   ]
  },
  {
   "cell_type": "code",
   "execution_count": 3,
   "metadata": {},
   "outputs": [
    {
     "name": "stdout",
     "output_type": "stream",
     "text": [
      "Начальное приближение x0 = 22\n"
     ]
    },
    {
     "data": {
      "text/plain": [
       "      fun: -11.898894665980901\n",
       " hess_inv: array([[ 1.68422174]])\n",
       "      jac: array([  5.96046448e-07])\n",
       "  message: 'Optimization terminated successfully.'\n",
       "     nfev: 21\n",
       "      nit: 6\n",
       "     njev: 7\n",
       "   status: 0\n",
       "  success: True\n",
       "        x: array([ 25.88019422])"
      ]
     },
     "execution_count": 3,
     "metadata": {},
     "output_type": "execute_result"
    }
   ],
   "source": [
    "x0 = np.random.choice(xrange(1, 31))\n",
    "print \"Начальное приближение x0 =\", x0\n",
    "scipy.optimize.minimize(f, x0=x0)"
   ]
  },
  {
   "cell_type": "markdown",
   "metadata": {},
   "source": [
    "**[6].** Укажите в *scipy.optimize.minimize* в качестве метода *BFGS* (один из самых точных в большинстве случаев градиентных методов оптимизации), запустите из начального приближения *x=2*. Градиент функции при этом указывать не нужно – он будет оценен численно. Полученное значение функции в точке минимума - ваш первый ответ по заданию 1, его надо записать с точностью до 2 знака после запятой."
   ]
  },
  {
   "cell_type": "code",
   "execution_count": 4,
   "metadata": {},
   "outputs": [
    {
     "data": {
      "text/plain": [
       "      fun: 1.7452682903447336\n",
       " hess_inv: array([[ 5.98752645]])\n",
       "      jac: array([ -2.04145908e-06])\n",
       "  message: 'Optimization terminated successfully.'\n",
       "     nfev: 21\n",
       "      nit: 6\n",
       "     njev: 7\n",
       "   status: 0\n",
       "  success: True\n",
       "        x: array([ 4.13627628])"
      ]
     },
     "execution_count": 4,
     "metadata": {},
     "output_type": "execute_result"
    }
   ],
   "source": [
    "answer1 = scipy.optimize.minimize(f, x0=2, method='BFGS')\n",
    "answer1"
   ]
  },
  {
   "cell_type": "markdown",
   "metadata": {},
   "source": [
    "**[7].** Теперь измените начальное приближение на *x=30*. Значение функции в точке минимума - ваш второй ответ по заданию 1, его надо записать через пробел после первого, с точностью до 2 знака после запятой."
   ]
  },
  {
   "cell_type": "code",
   "execution_count": 5,
   "metadata": {},
   "outputs": [
    {
     "data": {
      "text/plain": [
       "      fun: -11.898894665981313\n",
       " hess_inv: array([[ 1.67936744]])\n",
       "      jac: array([ 0.])\n",
       "  message: 'Optimization terminated successfully.'\n",
       "     nfev: 21\n",
       "      nit: 6\n",
       "     njev: 7\n",
       "   status: 0\n",
       "  success: True\n",
       "        x: array([ 25.88019321])"
      ]
     },
     "execution_count": 5,
     "metadata": {},
     "output_type": "execute_result"
    }
   ],
   "source": [
    "answer2 = scipy.optimize.minimize(f, x0=30, method='BFGS')\n",
    "answer2"
   ]
  },
  {
   "cell_type": "code",
   "execution_count": 6,
   "metadata": {
    "collapsed": true
   },
   "outputs": [],
   "source": [
    "with open('submission-1.txt', 'w') as file_obj:\n",
    "    file_obj.write('%.2f %.2f' % (answer1.fun, answer2.fun))"
   ]
  },
  {
   "cell_type": "markdown",
   "metadata": {},
   "source": [
    "**[8].**\n",
    "Стоит обдумать полученный результат. Почему ответ отличается в зависимости от начального приближения? Если нарисовать график функции (например, как это делалось в видео, где мы знакомились с *Numpy*, *Scipy* и *Matplotlib*), можно увидеть, в какие именно минимумы мы попали. В самом деле, градиентные методы обычно не решают задачу глобальной оптимизации, поэтому результаты работы ожидаемые и вполне корректные."
   ]
  },
  {
   "cell_type": "markdown",
   "metadata": {},
   "source": [
    "**Задача 2. Глобальная оптимизация**"
   ]
  },
  {
   "cell_type": "markdown",
   "metadata": {},
   "source": [
    "**[1].**Теперь попробуем применить к той же функции *f(x)* метод глобальной оптимизации — дифференциальную эволюцию."
   ]
  },
  {
   "cell_type": "markdown",
   "metadata": {},
   "source": [
    "**[2].** Изучите документацию и примеры использования функции *scipy.optimize.differential_evolution*."
   ]
  },
  {
   "cell_type": "markdown",
   "metadata": {},
   "source": [
    "**[3].** Обратите внимание, что границы значений аргументов функции представляют собой список кортежей (*list*, в который помещены объекты типа *tuple*). Даже если у вас функция одного аргумента, возьмите границы его значений в квадратные скобки, чтобы передавать в этом параметре список из одного кортежа, т.к. в реализации *scipy.optimize.differential_evolution* длина этого списка используется чтобы определить количество аргументов функции."
   ]
  },
  {
   "cell_type": "markdown",
   "metadata": {},
   "source": [
    "**[4].** Запустите поиск минимума функции *f(x)* с помощью дифференциальной эволюции на промежутке *[1, 30]*. Полученное значение функции в точке минимума - ответ в задаче 2. Запишите его с точностью до второго знака после запятой. В этой задаче ответ - только одно число."
   ]
  },
  {
   "cell_type": "code",
   "execution_count": 7,
   "metadata": {},
   "outputs": [
    {
     "data": {
      "text/plain": [
       "     fun: array([-11.89889467])\n",
       "     jac: array([  7.10542736e-07])\n",
       " message: 'Optimization terminated successfully.'\n",
       "    nfev: 81\n",
       "     nit: 4\n",
       " success: True\n",
       "       x: array([ 25.88019338])"
      ]
     },
     "execution_count": 7,
     "metadata": {},
     "output_type": "execute_result"
    }
   ],
   "source": [
    "answer = scipy.optimize.differential_evolution(f, bounds=[(1, 30)])\n",
    "answer"
   ]
  },
  {
   "cell_type": "code",
   "execution_count": 8,
   "metadata": {
    "collapsed": true
   },
   "outputs": [],
   "source": [
    "with open('submission-2.txt', 'w') as file_obj:\n",
    "    file_obj.write('%.2f' % answer.fun)"
   ]
  },
  {
   "cell_type": "markdown",
   "metadata": {},
   "source": [
    "**[5].** Заметьте, дифференциальная эволюция справилась с задачей поиска глобального минимума на отрезке, т.к. по своему устройству она предполагает борьбу с попаданием в локальные минимумы."
   ]
  },
  {
   "cell_type": "markdown",
   "metadata": {},
   "source": [
    "**[6].** Сравните количество итераций, потребовавшихся *BFGS* для нахождения минимума при хорошем начальном приближении, с количеством итераций, потребовавшихся дифференциальной эволюции. При повторных запусках дифференциальной эволюции количество итераций будет меняться, но в этом примере, скорее всего, оно всегда будет сравнимым с количеством итераций *BFGS*. Однако в дифференциальной эволюции за одну итерацию требуется выполнить гораздо больше действий, чем в *BFGS*. Например, можно обратить внимание на количество вычислений значения функции (*nfev*) и увидеть, что у *BFGS* оно значительно меньше. Кроме того, время работы дифференциальной эволюции очень быстро растет с увеличением числа аргументов функции."
   ]
  },
  {
   "cell_type": "markdown",
   "metadata": {},
   "source": [
    "**Задача 3. Минимизация негладкой функции**"
   ]
  },
  {
   "cell_type": "markdown",
   "metadata": {},
   "source": [
    "**[1].** Теперь рассмотрим функцию *h(x) = int(f(x))* на том же отрезке *[1, 30]*, т.е. теперь каждое значение *f(x)* приводится к типу *int* и функция принимает только целые значения."
   ]
  },
  {
   "cell_type": "code",
   "execution_count": 9,
   "metadata": {
    "collapsed": true
   },
   "outputs": [],
   "source": [
    "h = lambda x: int(f(x))"
   ]
  },
  {
   "cell_type": "markdown",
   "metadata": {},
   "source": [
    "**[2].** Такая функция будет негладкой и даже разрывной, а ее график будет иметь ступенчатый вид. Убедитесь в этом, построив график *h(x)* с помощью *matplotlib*"
   ]
  },
  {
   "cell_type": "code",
   "execution_count": 10,
   "metadata": {},
   "outputs": [
    {
     "data": {
      "image/png": "[encoded data removed]",
      "text/plain": [
       "<matplotlib.figure.Figure at 0x7e22588>"
      ]
     },
     "metadata": {},
     "output_type": "display_data"
    }
   ],
   "source": [
    "plt.plot(x, map(h, x)) # Построение графика\n",
    "plt.xlabel('$x$') # Метка по оси x в формате TeX\n",
    "plt.ylabel('$h(x)$') # Метка по оси y в формате TeX\n",
    "plt.grid(True) # Сетка\n",
    "plt.legend(( '$h(x)$', ))\n",
    "plt.show() # Показать график"
   ]
  },
  {
   "cell_type": "markdown",
   "metadata": {},
   "source": [
    "**[3].** Попробуйте найти минимум функции *h(x)* с помощью *BFGS*, взяв в качестве начального приближения *x=30*. Получившееся значение функции – ваш первый ответ в этой задаче."
   ]
  },
  {
   "cell_type": "code",
   "execution_count": 11,
   "metadata": {},
   "outputs": [
    {
     "data": {
      "text/plain": [
       "      fun: -5\n",
       " hess_inv: array([[1]])\n",
       "      jac: array([ 0.])\n",
       "  message: 'Optimization terminated successfully.'\n",
       "     nfev: 3\n",
       "      nit: 0\n",
       "     njev: 1\n",
       "   status: 0\n",
       "  success: True\n",
       "        x: array([ 30.])"
      ]
     },
     "execution_count": 11,
     "metadata": {},
     "output_type": "execute_result"
    }
   ],
   "source": [
    "answer1 = scipy.optimize.minimize(h, x0=30, method='BFGS')\n",
    "answer1"
   ]
  },
  {
   "cell_type": "markdown",
   "metadata": {},
   "source": [
    "**[4].** Теперь попробуйте найти минимум *h(x)* на отрезке *[1, 30]* с помощью дифференциальной эволюции. Значение функции *h(x)* в точке минимума – это ваш второй ответ в этом задании. Запишите его через пробел после предыдущего."
   ]
  },
  {
   "cell_type": "code",
   "execution_count": 12,
   "metadata": {},
   "outputs": [
    {
     "data": {
      "text/plain": [
       "     fun: -11.0\n",
       " message: 'Optimization terminated successfully.'\n",
       "    nfev: 92\n",
       "     nit: 5\n",
       " success: True\n",
       "       x: array([ 26.24361713])"
      ]
     },
     "execution_count": 12,
     "metadata": {},
     "output_type": "execute_result"
    }
   ],
   "source": [
    "answer2 = scipy.optimize.differential_evolution(h, bounds=[(1, 30)])\n",
    "answer2"
   ]
  },
  {
   "cell_type": "code",
   "execution_count": 13,
   "metadata": {
    "collapsed": true
   },
   "outputs": [],
   "source": [
    "with open('submission-3.txt', 'w') as file_obj:\n",
    "    file_obj.write('%.2f %.2f' % (answer1.fun, answer2.fun))"
   ]
  },
  {
   "cell_type": "markdown",
   "metadata": {},
   "source": [
    "**[5].** Обратите внимание на то, что полученные ответы различаются. Это ожидаемый результат, ведь *BFGS* использует градиент (в одномерном случае – производную) и явно не пригоден для минимизации рассмотренной нами разрывной функции. Попробуйте понять, почему минимум, найденный *BFGS*, именно такой (возможно в этом вам поможет выбор разных начальных приближений)."
   ]
  },
  {
   "cell_type": "markdown",
   "metadata": {},
   "source": [
    "**[6].** Выполнив это задание, вы увидели на практике, чем поиск минимума функции отличается от глобальной оптимизации, и когда может быть полезно применить вместо градиентного метода оптимизации метод, не использующий градиент. Кроме того, вы попрактиковались в использовании библиотеки *SciPy* для решения оптимизационных задач, и теперь знаете, насколько это просто и удобно."
   ]
  }
 ],
 "metadata": {
  "kernelspec": {
   "display_name": "Python 2",
   "language": "python",
   "name": "python2"
  },
  "language_info": {
   "codemirror_mode": {
    "name": "ipython",
    "version": 2
   },
   "file_extension": ".py",
   "mimetype": "text/x-python",
   "name": "python",
   "nbconvert_exporter": "python",
   "pygments_lexer": "ipython2",
   "version": "2.7.13"
  }
 },
 "nbformat": 4,
 "nbformat_minor": 2
}
